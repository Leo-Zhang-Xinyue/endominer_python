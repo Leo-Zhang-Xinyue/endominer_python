{
 "cells": [
  {
   "cell_type": "code",
   "execution_count": 1,
   "metadata": {},
   "outputs": [],
   "source": [
    "import pandas as pd\n",
    "import numpy as np\n",
    "import re\n",
    "import editdistance"
   ]
  },
  {
   "cell_type": "code",
   "execution_count": 2,
   "metadata": {},
   "outputs": [],
   "source": [
    "col_list= [\n",
    "      \"PatientID\",\n",
    "      \".SD\",\n",
    "      \"CStage\",\n",
    "      \"NumbOfBx\",\n",
    "      \"Years\",\n",
    "      \"Difference\",\n",
    "      \"barplot\",\n",
    "      \"head\",\n",
    "      \"read.table\",\n",
    "      \"eHospitalNum\",\n",
    "      \"pHospitalNum\",\n",
    "      \".\",\n",
    "      \"EVENT\",\n",
    "      \"MonthYear\",\n",
    "      \"freq\",\n",
    "      \"Endoscopist\",\n",
    "      \"avg\",\n",
    "      \"v\",\n",
    "      \"destination\",\n",
    "      \"dcast\",\n",
    "      \"complete.cases\",\n",
    "      \"g\",\n",
    "      \"gvisSankey\",\n",
    "      \"head\",\n",
    "      \"pHospitalNum\",\n",
    "      \"par\",\n",
    "      \"plot\",\n",
    "      \"r\",\n",
    "      \"read.table\",\n",
    "      \"region\",\n",
    "      \"rgb\",\n",
    "      \"setDT\",\n",
    "      \"Myendo\",\n",
    "      \"Mypath\",\n",
    "      \"doc_id\",\n",
    "      \"sentence\",\n",
    "      \"upos\",\n",
    "      \"xpos\",\n",
    "      \"feats\",\n",
    "      \"udmodel_english\",\n",
    "      \"cbind_dependencies\",\n",
    "      \"head_token_id\",\n",
    "      \"deps\",\n",
    "      \"morph_voice\",\n",
    "      \"OriginalReport\",\n",
    "      \"dep_rel\",\n",
    "      \"misc\",\n",
    "      \"has_morph\",\n",
    "      \"morph_abbr\",\n",
    "      \"morph_case\",\n",
    "      \"morph_definite\",\n",
    "      \"morph_degree\",\n",
    "      \"morph_foreign\",\n",
    "      \"morph_gender\",\n",
    "      \"morph_mood\",\n",
    "      \"morph_number\",\n",
    "      \"morph_numtype\",\n",
    "      \"morph_person\",\n",
    "      \"morph_poss\",\n",
    "      \"morph_prontype\",\n",
    "      \"morph_reflex\",\n",
    "      \"morph_tense\",\n",
    "      \"morph_verbform\",\n",
    "      \"str_subset\",\n",
    "      \"lower\",\n",
    "      \"upper\",\n",
    "      \"pathSiteString\",\n",
    "      \"outputFinal\",\n",
    "      \"theme_foundation\",\n",
    "      \"udmodel\",\n",
    "      \"x3\",\n",
    "      \"FINDINGSmyDx\",\n",
    "      \"FindingsAfterProcessing\",\n",
    "      \"primDxVector\",\n",
    "      \"Temporal\",\n",
    "      \"sentence_id\",\n",
    "      \"img\",\n",
    "      \"Endo_ResultEntered\",\n",
    "      \"V1\",\n",
    "      \"pandoc.image.return\"]"
   ]
  },
  {
   "cell_type": "code",
   "execution_count": 3,
   "metadata": {},
   "outputs": [
    {
     "ename": "SyntaxError",
     "evalue": "invalid syntax (<ipython-input-3-bf4e227658d1>, line 4)",
     "output_type": "error",
     "traceback": [
      "\u001b[0;36m  File \u001b[0;32m\"<ipython-input-3-bf4e227658d1>\"\u001b[0;36m, line \u001b[0;32m4\u001b[0m\n\u001b[0;31m    \"biopsies\":\"Biopsy\",\u001b[0m\n\u001b[0m              ^\u001b[0m\n\u001b[0;31mSyntaxError\u001b[0m\u001b[0;31m:\u001b[0m invalid syntax\n"
     ]
    }
   ],
   "source": [
    "HistolType = {\n",
    "    \"Resection\": \"Resection\",\n",
    "    \"bx\":\"Biopsy\"\n",
    "    \"biopsies\":\"Biopsy\",\n",
    "    \"endoscopic mucosal resection\" = \"EMR\"\n",
    "    \"endoscopic mucosectomy\" = \"EMR\",\n",
    "    \"endoscopic submucosal dissection\" = \"ESD\",\n",
    "    \"endoscopic submucosal resection\" = \"ESD\",\n",
    "    \"nodul\":\"nodul\",\n",
    "    \"polyp\":\"polyp\",\n",
    "    \"emr\":\"EMR\" #@Leo: we will lower case all the text, why need this?\n",
    "}\n",
    "LocationListUpper = {\n",
    "    \"d2\" = \"Duodenum\"\n",
    "    \"duodenal\" = \"Duodenum\",\n",
    "    \"gastric\" = \"Stomach\",\n",
    "    \"antral\" = \"Antrum\",\n",
    "    \"ogj\" = \"GOJ\",\n",
    "    \"gastrooesophageal\" = \"GOJ\",\n",
    "    \"fundal|fundus\" = \"stomach\",\n",
    "    \"pyloric\" = \"Pylorus\",\n",
    "    \"gastric cardia\" = \"Cardia\",\n",
    "    \"oesophageal\" = \"Oesophagus\"\n",
    "}\n",
    "\n",
    "\n",
    "\n",
    "#' Use list of standard locations for upper GI endoscopy\n",
    "#'\n",
    "#' The is a list of standard locations at endoscopy that is used in the\n",
    "#' extraction of the site of biopsies/EMRs and potentially in functions looking at the site of a\n",
    "#' therapeutic event. It just returns the list in the function\n",
    "#'\n",
    "#'\n",
    "#' @keywords Location\n",
    "#' @family NLP - Lexicons\n",
    "#' @export\n",
    "\n",
    "LocationListUniversal = {\"Anastomosis\": \"Ascending\"}\n",
    "\n",
    "\n",
    "#' Use list of standard locations for lower GI endoscopy\n",
    "#'\n",
    "#' The is a list of standard locations at endoscopy that is used in the\n",
    "#' extraction of the site of biopsies/EMRs and potentially in functions looking at the site of a\n",
    "#' therapeutic event. It just returns the list in the function\n",
    "#'\n",
    "#'\n",
    "#' @keywords Location\n",
    "#' @family NLP - Lexicons\n",
    "#' @export\n",
    "\n",
    "LocationListLower = {\n",
    "    \"asce |ascending|(ascend[^a-z])|( colon r )|(r colon)|(asc )|(right colon)\" = \"Ascending \",\n",
    "    \"descending|(descen[^a-z])|(desc[^a-z])|(des[^a-z])|(colon l)|(l colon)|(left colon)\" = \"Descending \",\n",
    "    \"sigmoid|(sigm[^a-z])|sigmo \" = \"Sigmoid \",\n",
    "    \"rectal|rectum|(rectum[a-z])|rect \" = \"Rectum \",\n",
    "    \"(transv[^a-z])|tranv |trans \" = \"Transverse \",\n",
    "    \"caecal\" = \"Caecum \",\n",
    "    #\"splenic\" = \"Splenic \",\n",
    "    \"ileal\" = \"Ileum \", #@Leo: space?\n",
    "    #\"rectosigmoid\" = \"Rectosigmoid \",\n",
    "    \"(ileocaecal\\\\s*)|icv|(ileo-caecum)\" = \"Ileocaecal\",\n",
    "    \"(hep[^a-z])|([Hh]epatic)\" = \"Hepatic \",\n",
    "    \"colonic|colon |(col[^a-z])\" = \"Colon \",\n",
    "    #\"term |terminal\" = \"Terminal\",\n",
    "    #\"TI \" = \"Terminal\", #@Leo: can't mapping coz all being lowercased\n",
    "    \"ti\" = \"Terminal\"\n",
    "    \"caec\" = \"Caecum \",\n",
    "    \"sig \" = \"Sigmoid \",\n",
    "    \"ileo\\\\s*-\\\\s*anal|ileo\\\\s*anal \" = \"Ileoanal \",\n",
    "    \"(pre\\\\s*pouch)|(pre-[Pp]ouch)\" = \"PrePouch\",\n",
    "    #\"pouch\" = \"Pouch\",\n",
    "    \"term\" = \"Terminal\"\n",
    "}"
   ]
  },
  {
   "cell_type": "code",
   "execution_count": null,
   "metadata": {},
   "outputs": [],
   "source": [
    "dict_test = {'[Ss]':'s'}\n",
    "dict_test['[Ss]']"
   ]
  },
  {
   "cell_type": "code",
   "execution_count": null,
   "metadata": {},
   "outputs": [],
   "source": [
    "example = \"Hospital: Random NHS Foundation Trust\\nHospital Number: J6044658\\nPatient Name:  Jargon, Victoria\\nGeneral Practitioner: Dr. Martin, Marche\\nDate of procedure:  2009-11-11\\nEndoscopist: Dr. Sullivan, Shelby\\nSecond endoscopist: Dr. al-Basha, Mahfoodha\\nMedications: Fentanyl  12.5mcg\\nMidazolam  6mg\\nInstrument:  FG5\\nExtent of Exam:  GOJ\\nIndications: Follow-up ULCER HEALING\\nProcedure Performed: Gastroscopy (OGD)\\nFindings:  No evidence of Barrett's oesophagus, short 2 cn hiatus hernia.,Oesophageal biopsies taken from three levels as requested.,OGD today to assess for ulceration/ongoing bleeding.,Diaphragmatic pinch:40cm .,She has a small hiatus hernia .,We will re-book for 2 weeks, rebanding.,Tiny erosions at the antrum.,Biopsies taken from top of stricture-metal marking clips in situ.,The varices flattened well with air insufflation.,He is on Barrett's Screeling List in October 2017 at St Thomas'.\\nHALO 90 done with good effect\\nEndoscopic Diagnosis:  Post chemo-radiotherapy stricture \""
   ]
  },
  {
   "cell_type": "code",
   "execution_count": null,
   "metadata": {},
   "outputs": [],
   "source": [
    "def text_prep(input_text, delim):\n",
    "    #1. Flatten the text..\n",
    "    input_text = lower(input_text) #@Leo: Do we want to make everything lower case?\n",
    "    input_text = column_cleanup(input_text)\n",
    "    "
   ]
  },
  {
   "cell_type": "code",
   "execution_count": null,
   "metadata": {},
   "outputs": [],
   "source": [
    "def col_splitter(text, delim):\n",
    "    delim = re.sub(r':',r'', delim)\n",
    "    delim = re.sub(r'(.*)',r'\\1: ',delim)\n",
    "    delim = list(delim)\n",
    "    text = dict_replacement(text, delim)\n",
    "    text = re.sub( r': :',r': ', text)\n",
    "    text = re.sub(r':([A-Za-z0-9])',r': \\1',text)\n",
    "    text = re.sub(r'\\n',r'\\. ',text)\n",
    "    text = re.sub(r'^','Start:',text)\n",
    "    text = re.sub(r'::',r':',text)"
   ]
  },
  {
   "cell_type": "code",
   "execution_count": null,
   "metadata": {},
   "outputs": [],
   "source": [
    "def column_cleanup(text):\n",
    "    #Optimise for tokenisation eg full stops followed by a number need to change so add a Letter before the number\n",
    "    #vector<-gsub(\"\\\\.\\\\s*(\\\\d)\",\"\\\\.T\\\\1\",vector)\n",
    "  \n",
    "    #Get rid of convert anything that has a full stop in the middle into a new line eg line .Ever\n",
    "    #vector<-gsub(\"([A-Za-z]\\\\s*)\\\\.(\\\\s*[A-Za-z])\",\"\\\\1\\n\\\\2\",vector)\n",
    "  \n",
    "  \n",
    "    #vector<-gsub(\"([A-Za-z]+.*)\\\\?(.*[A-Za-z]+.*)\",\"\\\\1 \\\\2\",vector)\n",
    "  \n",
    "    #Convert word return to space\n",
    "    text = re.sub(r'\\r\\n',r' ',text)\n",
    "    text = re.sub(r'\\r',r'\\n',text)\n",
    "      \n",
    "  \n",
    "  \n",
    "    #Convert ,hi to fullstop the the word if it is a capital letter\n",
    "    text = re.sub(r',([A-Z])',r'\\n\\1',text)\n",
    "    \n",
    "    #Conver \"., or . ,\"  to a space and vice versa\n",
    "    ##@Leo: Here for . I will check if there is a number before the ., if so, the dot will be kept, such as 2.5mg, \n",
    "    # otherwise, it will be replaced with \". \"\n",
    "    text = re.sub(r'(\\s+\\.)', r'. ', text)\n",
    "    text = re.sub(r'(\\s+\\,)', r', ', text)\n",
    "    text = re.sub(r'(\\.\\s*\\,)|(\\s*\\,\\s*\\.)|(^/d(\\.\\s*)+)', r'. ', text)\n",
    "    #vector = stri_replace_all(vector,\"\\\\.\",regex=\"(\\\\.\\\\s*\\\\,)|(\\\\,\\\\s*\\\\.)|((\\\\.\\\\s*)+)\")\n",
    "    #vector<-gsub(\"\\\\.\\\\s*\\\\,\",\"\\\\.\",vector)\n",
    "    #vector<-gsub(\"\\\\,\\\\s*\\\\.\",\"\\\\.\",vector)\n",
    "    #vector<-gsub(\"(\\\\.\\\\s*)+\",\"\\\\.\",vector)\n",
    "    \n",
    "    #querySebestian: what is this\n",
    "    #Get rid of middle of line newlines which seems to\n",
    "    #happen e.g. I am Sebastian and \\n I live in a hole\n",
    "    #vector = re.sub(\"(?:\\\\h*\\\\R)++(?!\\\\z)\\\\h*\", \" \", vector, perl=Ture)\n",
    "\n",
    "    #Get rid of ASCCII hex here\n",
    "    text = re.sub(r\"\\\\[Xx].*?\\\\\", \" \", text)\n",
    "    \n",
    "    #querySebastian: why? Hello?... Hello?...k -> Hello ...k\n",
    "    #Get rid of query type punctuation:\n",
    "    text = re.sub(r\"(.*)\\?(.*[A-Za-z]+)\",r\"\\1 \\2\",text)\n",
    "\n",
    "    #Get rid of pointless single quote marks\n",
    "    text = re.sub(r\"'\",r\"\",text)\n",
    "    text_list = list(map(lambda x: sent_tokenize(x),text.split('\\n')))\n",
    "    #print(text_list)\n",
    "    text = ' '.join([item for sublist in text_list for item in sublist])\n",
    "    \n",
    "    return text\n",
    "    "
   ]
  },
  {
   "cell_type": "code",
   "execution_count": null,
   "metadata": {
    "scrolled": true
   },
   "outputs": [],
   "source": [
    "list(map(lambda x: sent_tokenize(column_cleanup(x)),example.split('\\n')))"
   ]
  },
  {
   "cell_type": "code",
   "execution_count": null,
   "metadata": {},
   "outputs": [],
   "source": [
    "example.split('\\n')"
   ]
  },
  {
   "cell_type": "code",
   "execution_count": 4,
   "metadata": {},
   "outputs": [
    {
     "ename": "NameError",
     "evalue": "name 'column_cleanup' is not defined",
     "output_type": "error",
     "traceback": [
      "\u001b[0;31m---------------------------------------------------------------------------\u001b[0m",
      "\u001b[0;31mNameError\u001b[0m                                 Traceback (most recent call last)",
      "\u001b[0;32m<ipython-input-4-9764bcb72aca>\u001b[0m in \u001b[0;36m<module>\u001b[0;34m\u001b[0m\n\u001b[0;32m----> 1\u001b[0;31m \u001b[0mcolumn_cleanup\u001b[0m\u001b[0;34m(\u001b[0m\u001b[0mexample\u001b[0m\u001b[0;34m)\u001b[0m\u001b[0;34m\u001b[0m\u001b[0;34m\u001b[0m\u001b[0m\n\u001b[0m",
      "\u001b[0;31mNameError\u001b[0m: name 'column_cleanup' is not defined"
     ]
    }
   ],
   "source": [
    "column_cleanup(example)"
   ]
  },
  {
   "cell_type": "code",
   "execution_count": 5,
   "metadata": {},
   "outputs": [
    {
     "data": {
      "text/plain": [
       "'hospital: random nhs foundation trust hospital number: j6044658 patient name:  jargon, victoria general practitioner: dr.martin, marche date of procedure:  2009-11-11 endoscopist: dr.sullivan, shelby second endoscopist: dr.al-basha, mahfoodha medications: fentanyl  12.5mcg midazolam  6mg instrument:  fg5 extent of exam:  goj indications: follow-up ulcer healing procedure performed: gastroscopy (ogd) findings:  no evidence of barretts oesophagus, short 2 cn hiatus hernia.oesophageal biopsies taken from three levels as requested.ogd today to assess for ulceration/ongoing bleeding.diaphragmatic pinch:40cm .she has a small hiatus hernia .we will re-book for 2 weeks, rebanding.tiny erosions at the antrum.biopsies taken from top of stricture-metal marking clips in situ.the varices flattened well with air insufflation.he is on barretts screeling list in october 2017 at st thomas.halo 90 done with good effect endoscopic diagnosis:  post chemo-radiotherapy stricture'"
      ]
     },
     "execution_count": 5,
     "metadata": {},
     "output_type": "execute_result"
    }
   ],
   "source": [
    "\"hospital: random nhs foundation trust hospital number: j6044658 patient name:  jargon, victoria general practitioner: dr.martin, marche date of procedure:  2009-11-11 endoscopist: dr.sullivan, shelby second endoscopist: dr.al-basha, mahfoodha medications: fentanyl  12.5mcg midazolam  6mg instrument:  fg5 extent of exam:  goj indications: follow-up ulcer healing procedure performed: gastroscopy (ogd) findings:  no evidence of barretts oesophagus, short 2 cn hiatus hernia.oesophageal biopsies taken from three levels as requested.ogd today to assess for ulceration/ongoing bleeding.diaphragmatic pinch:40cm .she has a small hiatus hernia .we will re-book for 2 weeks, rebanding.tiny erosions at the antrum.biopsies taken from top of stricture-metal marking clips in situ.the varices flattened well with air insufflation.he is on barretts screeling list in october 2017 at st thomas.halo 90 done with good effect endoscopic diagnosis:  post chemo-radiotherapy stricture\""
   ]
  },
  {
   "cell_type": "code",
   "execution_count": null,
   "metadata": {},
   "outputs": [],
   "source": [
    "def spell_check(pattern, replacement, x, fixed = False):\n",
    "    distance_list = []\n",
    "    for pattern_word in pattern:\n",
    "        distance_list.append(editdistance.eval(x, pattern_word))\n",
    "    "
   ]
  },
  {
   "cell_type": "code",
   "execution_count": 16,
   "metadata": {},
   "outputs": [],
   "source": [
    "def dict_replacement(dictionary, string):\n",
    "    for key, val in dictionary.items():\n",
    "        string = re.sub(key,val,string) \n",
    "    return string"
   ]
  },
  {
   "cell_type": "code",
   "execution_count": 18,
   "metadata": {},
   "outputs": [],
   "source": [
    "dictionary = {'he':'eh', 'lo':'ol'}"
   ]
  },
  {
   "cell_type": "code",
   "execution_count": 19,
   "metadata": {},
   "outputs": [
    {
     "data": {
      "text/plain": [
       "'ehlol'"
      ]
     },
     "execution_count": 19,
     "metadata": {},
     "output_type": "execute_result"
    }
   ],
   "source": [
    "dict_replacement(dictionary, 'hello')"
   ]
  },
  {
   "cell_type": "code",
   "execution_count": 15,
   "metadata": {},
   "outputs": [
    {
     "data": {
      "text/plain": [
       "'aellb'"
      ]
     },
     "execution_count": 15,
     "metadata": {},
     "output_type": "execute_result"
    }
   ],
   "source": [
    "x"
   ]
  },
  {
   "cell_type": "code",
   "execution_count": 62,
   "metadata": {},
   "outputs": [],
   "source": [
    "from nltk import sent_tokenize"
   ]
  },
  {
   "cell_type": "code",
   "execution_count": 77,
   "metadata": {},
   "outputs": [
    {
     "data": {
      "text/plain": [
       "\"Hospital: Random NHS Foundation Trust\\nHospital Number: J6044658\\nPatient Name:  Jargon, Victoria\\nGeneral Practitioner: Dr. Martin, Marche\\nDate of procedure:  2009-11-11\\nEndoscopist: Dr. Sullivan, Shelby\\nSecond endoscopist: Dr. al-Basha, Mahfoodha\\nMedications: Fentanyl  12.5mcg\\nMidazolam  6mg\\nInstrument:  FG5\\nExtent of Exam:  GOJ\\nIndications: Follow-up ULCER HEALING\\nProcedure Performed: Gastroscopy (OGD)\\nFindings:  No evidence of Barrett's oesophagus, short 2 cn hiatus hernia. Oesophageal biopsies taken from three levels as requested. OGD today to assess for ulceration/ongoing bleeding. Diaphragmatic pinch:40cm . She has a small hiatus hernia . We will re-book for 2 weeks, rebanding. Tiny erosions at the antrum. Biopsies taken from top of stricture-metal marking clips in situ. The varices flattened well with air insufflation. He is on Barrett's Screeling List in October 2017 at St Thomas'.\\nHALO 90 done with good effect\\nEndoscopic Diagnosis:  Post chemo-radiotherapy stricture \""
      ]
     },
     "execution_count": 77,
     "metadata": {},
     "output_type": "execute_result"
    }
   ],
   "source": [
    "re.sub(r'(\\.\\s*\\,)|(\\,\\s*\\.)|(^/d(\\.\\s*)+)', r'. ', example)#[2]"
   ]
  },
  {
   "cell_type": "code",
   "execution_count": 74,
   "metadata": {},
   "outputs": [
    {
     "data": {
      "text/plain": [
       "\"Hospital: Random NHS Foundation Trust\\nHospital Number: J6044658\\nPatient Name:  Jargon, Victoria\\nGeneral Practitioner: Dr. Martin, Marche\\nDate of procedure:  2009-11-11\\nEndoscopist: Dr. Sullivan, Shelby\\nSecond endoscopist: Dr. al-Basha, Mahfoodha\\nMedications: Fentanyl  12.5mcg\\nMidazolam  6mg\\nInstrument:  FG5\\nExtent of Exam:  GOJ\\nIndications: Follow-up ULCER HEALING\\nProcedure Performed: Gastroscopy (OGD)\\nFindings:  No evidence of Barrett's oesophagus, short 2 cn hiatus hernia.,Oesophageal biopsies taken from three levels as requested.,OGD today to assess for ulceration/ongoing bleeding.,Diaphragmatic pinch:40cm .,She has a small hiatus hernia .,We will re-book for 2 weeks, rebanding.,Tiny erosions at the antrum.,Biopsies taken from top of stricture-metal marking clips in situ.,The varices flattened well with air insufflation.,He is on Barrett's Screeling List in October 2017 at St Thomas'.\\nHALO 90 done with good effect\\nEndoscopic Diagnosis:  Post chemo-radiotherapy stricture \""
      ]
     },
     "execution_count": 74,
     "metadata": {},
     "output_type": "execute_result"
    }
   ],
   "source": [
    "example"
   ]
  },
  {
   "cell_type": "code",
   "execution_count": 22,
   "metadata": {},
   "outputs": [
    {
     "ename": "ModuleNotFoundError",
     "evalue": "No module named 'pyensae'",
     "output_type": "error",
     "traceback": [
      "\u001b[0;31m---------------------------------------------------------------------------\u001b[0m",
      "\u001b[0;31mModuleNotFoundError\u001b[0m                       Traceback (most recent call last)",
      "\u001b[0;32m<ipython-input-22-bd16e93e7c81>\u001b[0m in \u001b[0;36m<module>\u001b[0;34m\u001b[0m\n\u001b[0;32m----> 1\u001b[0;31m \u001b[0;32mfrom\u001b[0m \u001b[0mpyensae\u001b[0m\u001b[0;34m.\u001b[0m\u001b[0mlanguages\u001b[0m \u001b[0;32mimport\u001b[0m \u001b[0mr2python\u001b[0m\u001b[0;34m\u001b[0m\u001b[0;34m\u001b[0m\u001b[0m\n\u001b[0m",
      "\u001b[0;31mModuleNotFoundError\u001b[0m: No module named 'pyensae'"
     ]
    }
   ],
   "source": [
    "from pyensae.languages import r2python"
   ]
  },
  {
   "cell_type": "code",
   "execution_count": null,
   "metadata": {},
   "outputs": [],
   "source": []
  }
 ],
 "metadata": {
  "kernelspec": {
   "display_name": "Python 3",
   "language": "python",
   "name": "python3"
  },
  "language_info": {
   "codemirror_mode": {
    "name": "ipython",
    "version": 3
   },
   "file_extension": ".py",
   "mimetype": "text/x-python",
   "name": "python",
   "nbconvert_exporter": "python",
   "pygments_lexer": "ipython3",
   "version": "3.7.4"
  }
 },
 "nbformat": 4,
 "nbformat_minor": 2
}
