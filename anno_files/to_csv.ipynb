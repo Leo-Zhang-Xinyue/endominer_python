{
 "cells": [
  {
   "cell_type": "code",
   "execution_count": 1,
   "metadata": {},
   "outputs": [],
   "source": [
    "import pandas as pd"
   ]
  },
  {
   "cell_type": "code",
   "execution_count": 5,
   "metadata": {},
   "outputs": [
    {
     "data": {
      "text/plain": [
       "['SP-76-4158892. Hospital: Random NHS Foundation Trust. Hospital Number: G4762980. Patient Name:  el-Bagheri, Aasima. DOB:  1989-01-21. General Practitioner: Dr. el-Majid, Haamida. Date received:  2008-05-30. Clinical Details:  No inlet patch. Three D2 and one D1 biopsies were taken to exclude coeliac disese. At OGD- fundic gastritis and cardia nodule. Sigmoid malignant appearing lesion. Dyspepsia, normal gastroscopy. Transient dysphagia, reflux. any IM/dysplasia. Any evidence of chronic inflammation or UGI crohn s. 3 mm sessile. candida oesophagus. 5 specimen. Nature of specimen:  Nature of specimen as stated on pot = x 4 oesophageal biopsies 28 cm. Nature of specimen as stated on pot = Oesophjagus 21cm. Nature of specimen as stated on pot = Oesophagus 21cm. Nature of specimen as stated on pot = Oesophagus 37M ,a) Nature of specimen as stated on request form = D2 x 4. Nature of specimen as stated on request form = duodenum. Nature of specimen as stated on request form = OESOPHAGUS 29CM. Nature of specimen as stated on pot = Oesophageal biopsies x6. Nature of specimen as stated on request form = 4 x D2, 2 x gastric. Nature of specimen as stated on request form = ADENOMA. Macroscopic description: 3 specimens collected the largest measuring 2 x 3 x 1 mm and the smallest 3 x 3 x 5 mm. Histology:  The biopsies show a large bowel mucosa containing a small fragment of hyperplastic polyp,but no active inflammation. The changes are mild and non-specific. There is no significant excess of chronic inflammatory cells. No Candida hyphae or viral inclusions are seen,including intestinal-type epithelium. occasional specialised glands. Diagnosis:  Duodenum, biopsies: - Within normal histological limits. Oesophagus, biopsy - Barrett s oesophagus with intestinal metaplasia.  Intraepithelial lymphocytosis,- Consistent with an inflammatory polyp. B GI biopsy - DISTAL OESOPHAGUS X2, MID OESO X3, PROX OESO X2. Oesophagus, biopsies: -Mild chronic inflammation,- Mild intrapeithelial lymphcytosis. Mid-oesophagus biopsies:- ulceration. Oesophagus, biopsies: - Ulceration and chronic active inflammation. Cardia/gastro-oesophageal junction, biopsy.']"
      ]
     },
     "execution_count": 5,
     "metadata": {},
     "output_type": "execute_result"
    }
   ],
   "source": [
    "lines"
   ]
  },
  {
   "cell_type": "code",
   "execution_count": 14,
   "metadata": {},
   "outputs": [],
   "source": [
    "import os\n",
    "text_files = []\n",
    "dir_str = './'\n",
    "directory = os.fsencode(dir_str)\n",
    "    \n",
    "for file in os.listdir(directory):\n",
    "    filename = os.fsdecode(file)\n",
    "    if filename.startswith(\"notes\"): \n",
    "        text_files.append(os.path.join(dir_str, filename))\n"
   ]
  },
  {
   "cell_type": "code",
   "execution_count": 20,
   "metadata": {},
   "outputs": [],
   "source": [
    "import csv\n",
    "f = open('text.csv', 'w')\n",
    "writer = csv.writer(f)\n",
    "writer.writerow(['name', 'text'])\n",
    "for i, file in enumerate(text_files):\n",
    "    with open(file) as f:\n",
    "        lines = f.readlines()\n",
    "    text = \"\\n\".join(lines)\n",
    "    writer.writerow([i, text])\n",
    "f.close()"
   ]
  },
  {
   "cell_type": "raw",
   "metadata": {},
   "source": [
    "text_files"
   ]
  },
  {
   "cell_type": "code",
   "execution_count": 16,
   "metadata": {},
   "outputs": [
    {
     "ename": "NameError",
     "evalue": "name 'row' is not defined",
     "output_type": "error",
     "traceback": [
      "\u001b[0;31m---------------------------------------------------------------------------\u001b[0m",
      "\u001b[0;31mNameError\u001b[0m                                 Traceback (most recent call last)",
      "\u001b[0;32m<ipython-input-16-18984c66cd58>\u001b[0m in \u001b[0;36m<module>\u001b[0;34m\u001b[0m\n\u001b[1;32m      8\u001b[0m \u001b[0;34m\u001b[0m\u001b[0m\n\u001b[1;32m      9\u001b[0m \u001b[0;31m# write a row to the csv file\u001b[0m\u001b[0;34m\u001b[0m\u001b[0;34m\u001b[0m\u001b[0;34m\u001b[0m\u001b[0m\n\u001b[0;32m---> 10\u001b[0;31m \u001b[0mwriter\u001b[0m\u001b[0;34m.\u001b[0m\u001b[0mwriterow\u001b[0m\u001b[0;34m(\u001b[0m\u001b[0mrow\u001b[0m\u001b[0;34m)\u001b[0m\u001b[0;34m\u001b[0m\u001b[0;34m\u001b[0m\u001b[0m\n\u001b[0m\u001b[1;32m     11\u001b[0m \u001b[0;34m\u001b[0m\u001b[0m\n\u001b[1;32m     12\u001b[0m \u001b[0;31m# close the file\u001b[0m\u001b[0;34m\u001b[0m\u001b[0;34m\u001b[0m\u001b[0;34m\u001b[0m\u001b[0m\n",
      "\u001b[0;31mNameError\u001b[0m: name 'row' is not defined"
     ]
    }
   ],
   "source": [
    "\n",
    "\n",
    "# open the file in the write mode\n",
    "\n",
    "\n",
    "# create the csv writer\n",
    "\n",
    "\n",
    "# write a row to the csv file\n",
    "\n",
    "\n",
    "# close the file\n"
   ]
  },
  {
   "cell_type": "code",
   "execution_count": null,
   "metadata": {},
   "outputs": [],
   "source": []
  }
 ],
 "metadata": {
  "kernelspec": {
   "display_name": "Python 3",
   "language": "python",
   "name": "python3"
  },
  "language_info": {
   "codemirror_mode": {
    "name": "ipython",
    "version": 3
   },
   "file_extension": ".py",
   "mimetype": "text/x-python",
   "name": "python",
   "nbconvert_exporter": "python",
   "pygments_lexer": "ipython3",
   "version": "3.7.4"
  }
 },
 "nbformat": 4,
 "nbformat_minor": 2
}
