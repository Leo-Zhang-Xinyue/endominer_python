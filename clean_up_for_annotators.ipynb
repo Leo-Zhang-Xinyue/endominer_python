{
 "cells": [
  {
   "cell_type": "code",
   "execution_count": 13,
   "metadata": {},
   "outputs": [],
   "source": [
    "import pyreadr\n",
    "from PrePro import PreProAnno\n",
    "import warnings\n",
    "warnings.filterwarnings(\"ignore\")"
   ]
  },
  {
   "cell_type": "code",
   "execution_count": 14,
   "metadata": {},
   "outputs": [],
   "source": [
    "path_data_final = pyreadr.read_r('../data/PathDataFrameFinal.rda')['PathDataFrameFinal']"
   ]
  },
  {
   "cell_type": "code",
   "execution_count": 15,
   "metadata": {},
   "outputs": [],
   "source": [
    "notes_list = path_data_final['PathReportWhole']"
   ]
  },
  {
   "cell_type": "code",
   "execution_count": 18,
   "metadata": {},
   "outputs": [],
   "source": [
    "#path_data_final['PathReportWhole']"
   ]
  },
  {
   "cell_type": "code",
   "execution_count": 7,
   "metadata": {},
   "outputs": [],
   "source": [
    "keyword_dict = {\n",
    "    \"oesophagus\":[\"oesophagus\",\"oesophageal\",\"barrett\"]  \n",
    "}"
   ]
  },
  {
   "cell_type": "code",
   "execution_count": 8,
   "metadata": {},
   "outputs": [
    {
     "name": "stdout",
     "output_type": "stream",
     "text": [
      "Welcome to notes preprocessor which is used before annotation project. \n",
      " You can use this function clean up your clinical notes and \n",
      " select the notes that contains the most mention of concepts \n",
      " that you want to annotate\n"
     ]
    }
   ],
   "source": [
    "anno_preprocessor = PreProAnno(notes_list)"
   ]
  },
  {
   "cell_type": "code",
   "execution_count": 9,
   "metadata": {},
   "outputs": [
    {
     "name": "stdout",
     "output_type": "stream",
     "text": [
      "Notes has been cleaned, if you dont want this,please set clean = False\n"
     ]
    }
   ],
   "source": [
    "anno_preprocessor.save_ktop_notes(keyword_dict,5, clean = True)"
   ]
  },
  {
   "cell_type": "code",
   "execution_count": 10,
   "metadata": {},
   "outputs": [
    {
     "data": {
      "text/plain": [
       "'SP-37-2784518. Hospital: Random NHS Foundation Trust. Hospital Number: J6044658. Patient Name:  Jargon, Victoria. DOB:  1943-10-13. General Practitioner: Dr. Martin, Marche. Date received:  2009-11-11. Clinical Details:  Ongoing antral gastritis despite treatment with PPI. Reflux sx. High dyshagia OGD - fundic gastritis. Chronic diarrhoea/colonic biopsies. Currently on steriod for IgG4 disease. Food bolus obstruction. 4 specimen. Nature of specimen:  Nature of specimen as stated on pot = proximal body lesser curve polyps x4. Specimen A- Nature of specimen as stated on request form = GREATER CURVE. Nature of specimen as stated on request form = Gastric polyp. Macroscopic description: 3 specimens collected the largest measuring 3 x 2 x 1 mm and the smallest 2 x 1 x 5 mm. Histology:  Two biopsies consist of small bowel mucosa and are within normal histological limits. Diagnosis:  Distal transverse colon polyp excision:- tubular adenoma, low grade dysplasia. Ileo-caecal valve, biopsies. Stomach antrum biopsies:- normal mucosa.  Up to 34 eosinophils per high power field. Stomach, biopsy - Mild chronic inflammation.'"
      ]
     },
     "execution_count": 10,
     "metadata": {},
     "output_type": "execute_result"
    }
   ],
   "source": [
    "anno_preprocessor.get_notes()[0]"
   ]
  },
  {
   "cell_type": "code",
   "execution_count": 11,
   "metadata": {},
   "outputs": [
    {
     "data": {
      "text/plain": [
       "\"SP-37-2784518\\nHospital: Random NHS Foundation Trust\\nHospital Number: J6044658\\nPatient Name:  Jargon, Victoria\\nDOB:  1943-10-13\\nGeneral Practitioner: Dr. Martin, Marche\\nDate received:  2009-11-11\\nClinical Details:  Ongoing antral gastritis despite treatment with PPI,Reflux sx.,High dyshagia OGD - fundic gastritis.,Chronic diarrhoea/colonic biopsies,Currently on steriod for IgG4 disease.,Food bolus obstruction.\\n4 specimen. Nature of specimen:  Nature of specimen as stated on pot = 'proximal body lesser curve polyps x4 ',Specimen A- Nature of specimen as stated on request form = 'GREATER CURVE ',Nature of specimen as stated on request form = 'Gastric polyp '\\nMacroscopic description: 3 specimens collected the largest measuring 3 x 2 x 1 mm and the smallest 2 x 1 x 5 mm\\nHistology:  Two biopsies consist of small bowel mucosa and are within normal histological limits.\\nDiagnosis:  Distal transverse colon polyp excision:- tubular adenoma, low grade dysplasia.,Ileo-caecal valve, biopsies:.,Stomach antrum biopsies:- normal mucosa.,- Up to 34 eosinophils per high power field,Stomach, biopsy - Mild chronic inflammation.\""
      ]
     },
     "execution_count": 11,
     "metadata": {},
     "output_type": "execute_result"
    }
   ],
   "source": [
    "anno_preprocessor.get_notes(original = True)[0]"
   ]
  },
  {
   "cell_type": "code",
   "execution_count": 12,
   "metadata": {},
   "outputs": [
    {
     "name": "stdout",
     "output_type": "stream",
     "text": [
      "Notes has been cleaned, if you dont want this,please set clean = False\n"
     ]
    },
    {
     "data": {
      "text/plain": [
       "['SP-76-4158892. Hospital: Random NHS Foundation Trust. Hospital Number: G4762980. Patient Name:  el-Bagheri, Aasima. DOB:  1989-01-21. General Practitioner: Dr. el-Majid, Haamida. Date received:  2008-05-30. Clinical Details:  No inlet patch. Three D2 and one D1 biopsies were taken to exclude coeliac disese. At OGD- fundic gastritis and cardia nodule. Sigmoid malignant appearing lesion. Dyspepsia, normal gastroscopy. Transient dysphagia, reflux. any IM/dysplasia. Any evidence of chronic inflammation or UGI crohn s. 3 mm sessile. candida oesophagus. 5 specimen. Nature of specimen:  Nature of specimen as stated on pot = x 4 oesophageal biopsies 28 cm. Nature of specimen as stated on pot = Oesophjagus 21cm. Nature of specimen as stated on pot = Oesophagus 21cm. Nature of specimen as stated on pot = Oesophagus 37M ,a) Nature of specimen as stated on request form = D2 x 4. Nature of specimen as stated on request form = duodenum. Nature of specimen as stated on request form = OESOPHAGUS 29CM. Nature of specimen as stated on pot = Oesophageal biopsies x6. Nature of specimen as stated on request form = 4 x D2, 2 x gastric. Nature of specimen as stated on request form = ADENOMA. Macroscopic description: 3 specimens collected the largest measuring 2 x 3 x 1 mm and the smallest 3 x 3 x 5 mm. Histology:  The biopsies show a large bowel mucosa containing a small fragment of hyperplastic polyp,but no active inflammation. The changes are mild and non-specific. There is no significant excess of chronic inflammatory cells. No Candida hyphae or viral inclusions are seen,including intestinal-type epithelium. occasional specialised glands. Diagnosis:  Duodenum, biopsies: - Within normal histological limits. Oesophagus, biopsy - Barrett s oesophagus with intestinal metaplasia.  Intraepithelial lymphocytosis,- Consistent with an inflammatory polyp. B GI biopsy - DISTAL OESOPHAGUS X2, MID OESO X3, PROX OESO X2. Oesophagus, biopsies: -Mild chronic inflammation,- Mild intrapeithelial lymphcytosis. Mid-oesophagus biopsies:- ulceration. Oesophagus, biopsies: - Ulceration and chronic active inflammation. Cardia/gastro-oesophageal junction, biopsy.',\n",
       " 'SP-76-4158892. Hospital: Random NHS Foundation Trust. Hospital Number: G4762980. Patient Name:  el-Bagheri, Aasima. DOB:  1989-01-21. General Practitioner: Dr. el-Majid, Haamida. Date received:  2008-05-30. Clinical Details:  No inlet patch. Three D2 and one D1 biopsies were taken to exclude coeliac disese. At OGD- fundic gastritis and cardia nodule. Sigmoid malignant appearing lesion. Dyspepsia, normal gastroscopy. Transient dysphagia, reflux. any IM/dysplasia. Any evidence of chronic inflammation or UGI crohn s. 3 mm sessile. candida oesophagus. 5 specimen. Nature of specimen:  Nature of specimen as stated on pot = x 4 oesophageal biopsies 28 cm. Nature of specimen as stated on pot = Oesophjagus 21cm. Nature of specimen as stated on pot = Oesophagus 21cm. Nature of specimen as stated on pot = Oesophagus 37M ,a) Nature of specimen as stated on request form = D2 x 4. Nature of specimen as stated on request form = duodenum. Nature of specimen as stated on request form = OESOPHAGUS 29CM. Nature of specimen as stated on pot = Oesophageal biopsies x6. Nature of specimen as stated on request form = 4 x D2, 2 x gastric. Nature of specimen as stated on request form = ADENOMA. Macroscopic description: 3 specimens collected the largest measuring 2 x 3 x 1 mm and the smallest 3 x 3 x 5 mm. Histology:  The biopsies show a large bowel mucosa containing a small fragment of hyperplastic polyp,but no active inflammation. The changes are mild and non-specific. There is no significant excess of chronic inflammatory cells. No Candida hyphae or viral inclusions are seen,including intestinal-type epithelium. occasional specialised glands. Diagnosis:  Duodenum, biopsies: - Within normal histological limits. Oesophagus, biopsy - Barrett s oesophagus with intestinal metaplasia.  Intraepithelial lymphocytosis,- Consistent with an inflammatory polyp. B GI biopsy - DISTAL OESOPHAGUS X2, MID OESO X3, PROX OESO X2. Oesophagus, biopsies: -Mild chronic inflammation,- Mild intrapeithelial lymphcytosis. Mid-oesophagus biopsies:- ulceration. Oesophagus, biopsies: - Ulceration and chronic active inflammation. Cardia/gastro-oesophageal junction, biopsy.',\n",
       " 'SP-45-9885838. Hospital: Random NHS Foundation Trust. Hospital Number: D5975610. Patient Name:  Esquivel, Angalissa. DOB:  1987-02-02. General Practitioner: Dr. Conway, Megan. Date received:  2005-11-07. Clinical Details:  Barrett s surveillance. Previous oesopahgeal Barrett s adenocarcinoma T1a. revious biopsies from GOJ in Nov - indefinite for low grade dysplasia. GOJ opening well but body of. Biopsy from gastric antrum. Linear erosions in oesophagus. Oesophageal candida. Ongoing antral gastritis despite treatment with PPI. Transverse colon x 2. Chronic diarrhoea . 3 specimen. Nature of specimen:  Nature of specimen as stated on pot = Transverse polyp x 1. Nature of specimen as stated on request form = ADENOMA. Nature of specimen as stated on request form = Mid oesoph biopsies ,c) Nature of specimen as stated on request form = Oesophagus 37M. Nature of specimen as stated on request form = Oesophagus @ 27cm. Nature of specimen as stated on pot = upper oesophagus. Nature of specimen as stated on request form = Antral biopsy. Macroscopic description: 3 specimens collected the largest measuring 2 x 3 x 4 mm and the smallest 2 x 1 x 1 mm. Histology:  Focally there is stratification and nuclear pleomorphism amounting to high grade. No intestinal metaplasia, dysplasia or. fibromuscularisation of the lamina propria. epithelial lymphocytes. inflammation, intestinalmetaplasia or atrophy is seen. Squamocolumnar mucosa with intestinal metaplasia and acute and chronic. and they favour Crohn s disease at present. Diagnosis:  - within normal histological limits. Gastro-oesophageal junction, biopsy - Columnar mucosa with mild chronic inflammation. Oesophagus biopsies:- normal epithelium. Oesophagus, biopsies - Mild chronic inflammation. B) Jejunum and stomach, Roux-en-Y anastomosis, biopsies. Oesophagus, EMR 43P - Barrett s oesophagus without intestinal metaplasia.  Helicobacter present,- Chronic active inflammation. Oesophagus, biopsy - Barrett s oesophagus with moderate chronic inflammation.  See text.',\n",
       " 'SP-64-9380959. Hospital: Random NHS Foundation Trust. Hospital Number: M9440150. Patient Name:  el-Pour, Mubeena. DOB:  1915-04-13. General Practitioner: Dr. el-Sharifi, Ghaidaa. Date received:  2002-05-27. Clinical Details:  OGD - minimal gastritis only. cancer. Comment. oesophageal biopsies taken 36cm, 28cm and 22cm. Chronic diarrhoea . Normal OGD, ++dyspepsia. weeks requested for healing. H pylori gastritis. 3 specimen. Nature of specimen:  a Nature of specimen as stated on request form = D2 x 4. Nature of specimen as stated on request form = Oesophagus 4@3cm . Nature of specimen as stated on request form = Oesophagus @35cmx3. Nature of specimen as stated on pot = OESOPHAGUS 39CM. Nature of specimen as stated on pot = Oesophagus @36cmx1. Nature of specimen as stated on pot = x1 descending polyp. Nature of specimen as stated on request form = OESOPHAGUS 23CM. Nature of specimen as stated on request form = Oesophagus 35P. Macroscopic description: 7 specimens collected the largest measuring 1 x 2 x 4 mm and the smallest 1 x 4 x 2 mm. Histology:  Also inlcuded are pieces of non-specialised gastric mucosa with foveolar. There is no intestinal metaplasia, atrophy or Helicobacter pylori. These biopsies of specialised gastric-type mucosa showed a minimal chronic, inactive gastritis. No Helicobacter-like organisms are seen. These are biopsies of slightly papillomatous squamous mucosa in keeping with papillomas. The appearances are those of Helicobacter associated chronic active gastritis. No Helicobacter-like organisms, intestinal metaplasia, dysplasia or malignancy is. No acute inflammation is seen. No ulceration is seen. Diagnosis:  - Barrett s oesophagus with intestinal metaplasia.  No invasion identified. Rectum, polyp biopsy: - Tubular adenoma with mild dysplasia,- raised intra-epithelial lymphocytes. Lower and mid-oesophagus, biopsies. Duodenum, biopsy - No significant abnormalities.  Crohn s disease.  Consistent with inflammatory bowel disease. Oesophagus, biopsy - Squamous mucosa. Oesophagus, biopsy - Barrett s oesophagus with focal intestinal metaplasia.',\n",
       " 'SP-64-9380959. Hospital: Random NHS Foundation Trust. Hospital Number: M9440150. Patient Name:  el-Pour, Mubeena. DOB:  1915-04-13. General Practitioner: Dr. el-Sharifi, Ghaidaa. Date received:  2002-05-27. Clinical Details:  OGD - minimal gastritis only. cancer. Comment. oesophageal biopsies taken 36cm, 28cm and 22cm. Chronic diarrhoea . Normal OGD, ++dyspepsia. weeks requested for healing. H pylori gastritis. 3 specimen. Nature of specimen:  a Nature of specimen as stated on request form = D2 x 4. Nature of specimen as stated on request form = Oesophagus 4@3cm . Nature of specimen as stated on request form = Oesophagus @35cmx3. Nature of specimen as stated on pot = OESOPHAGUS 39CM. Nature of specimen as stated on pot = Oesophagus @36cmx1. Nature of specimen as stated on pot = x1 descending polyp. Nature of specimen as stated on request form = OESOPHAGUS 23CM. Nature of specimen as stated on request form = Oesophagus 35P. Macroscopic description: 7 specimens collected the largest measuring 1 x 2 x 4 mm and the smallest 1 x 4 x 2 mm. Histology:  Also inlcuded are pieces of non-specialised gastric mucosa with foveolar. There is no intestinal metaplasia, atrophy or Helicobacter pylori. These biopsies of specialised gastric-type mucosa showed a minimal chronic, inactive gastritis. No Helicobacter-like organisms are seen. These are biopsies of slightly papillomatous squamous mucosa in keeping with papillomas. The appearances are those of Helicobacter associated chronic active gastritis. No Helicobacter-like organisms, intestinal metaplasia, dysplasia or malignancy is. No acute inflammation is seen. No ulceration is seen. Diagnosis:  - Barrett s oesophagus with intestinal metaplasia.  No invasion identified. Rectum, polyp biopsy: - Tubular adenoma with mild dysplasia,- raised intra-epithelial lymphocytes. Lower and mid-oesophagus, biopsies. Duodenum, biopsy - No significant abnormalities.  Crohn s disease.  Consistent with inflammatory bowel disease. Oesophagus, biopsy - Squamous mucosa. Oesophagus, biopsy - Barrett s oesophagus with focal intestinal metaplasia.']"
      ]
     },
     "execution_count": 12,
     "metadata": {},
     "output_type": "execute_result"
    }
   ],
   "source": [
    "anno_preprocessor.notes_selector(keyword_dict,5, clean = True)"
   ]
  },
  {
   "cell_type": "code",
   "execution_count": null,
   "metadata": {},
   "outputs": [],
   "source": []
  }
 ],
 "metadata": {
  "kernelspec": {
   "display_name": "Python 3",
   "language": "python",
   "name": "python3"
  },
  "language_info": {
   "codemirror_mode": {
    "name": "ipython",
    "version": 3
   },
   "file_extension": ".py",
   "mimetype": "text/x-python",
   "name": "python",
   "nbconvert_exporter": "python",
   "pygments_lexer": "ipython3",
   "version": "3.7.4"
  }
 },
 "nbformat": 4,
 "nbformat_minor": 2
}
